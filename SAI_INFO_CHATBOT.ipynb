{
 "cells": [
  {
   "cell_type": "code",
   "execution_count": 1,
   "id": "0b1d728d",
   "metadata": {},
   "outputs": [],
   "source": [
    "#Importing necessary library\n",
    "import nltk\n",
    "from nltk.tokenize import word_tokenize\n",
    "from nltk.corpus import stopwords\n",
    "from nltk.stem import WordNetLemmatizer\n",
    "import random"
   ]
  },
  {
   "cell_type": "code",
   "execution_count": 2,
   "id": "d85fd32b",
   "metadata": {},
   "outputs": [
    {
     "name": "stderr",
     "output_type": "stream",
     "text": [
      "[nltk_data] Downloading package punkt to C:\\Users\\SAGAR\n",
      "[nltk_data]     DABGAR\\AppData\\Roaming\\nltk_data...\n",
      "[nltk_data]   Package punkt is already up-to-date!\n",
      "[nltk_data] Downloading package stopwords to C:\\Users\\SAGAR\n",
      "[nltk_data]     DABGAR\\AppData\\Roaming\\nltk_data...\n",
      "[nltk_data]   Package stopwords is already up-to-date!\n",
      "[nltk_data] Downloading package wordnet to C:\\Users\\SAGAR\n",
      "[nltk_data]     DABGAR\\AppData\\Roaming\\nltk_data...\n",
      "[nltk_data]   Package wordnet is already up-to-date!\n"
     ]
    },
    {
     "data": {
      "text/plain": [
       "True"
      ]
     },
     "execution_count": 2,
     "metadata": {},
     "output_type": "execute_result"
    }
   ],
   "source": [
    "nltk.download('punkt')\n",
    "nltk.download('stopwords')\n",
    "nltk.download('wordnet')\n"
   ]
  },
  {
   "cell_type": "code",
   "execution_count": 3,
   "id": "7f9e625c",
   "metadata": {},
   "outputs": [],
   "source": [
    "#here is the  topics and responses\n",
    "topics = {\n",
    "    \"weather\": [\"What's the weather like today?\", \"Can you tell me the forecast?\", \"Is it going to rain tomorrow?\"],\n",
    "    \"greeting\": [\"Hello!\", \"Hi there!\", \"Hey!\"],\n",
    "    \"goodbye\": [\"Goodbye!\", \"See you later!\", \"Take care!\"]\n",
    "}\n",
    "\n",
    "responses = {\n",
    "    \"weather\": [\"The weather is sunny today.\", \"Looks like it will be cloudy.\", \"There's a chance of rain.\"],\n",
    "    \"greeting\": [\"How can I help you?\", \"What brings you here today?\", \"Nice to meet you!\"],\n",
    "    \"goodbye\": [\"Goodbye! Have a great day.\", \"See you later, alligator!\", \"Take care, bye!\"]\n",
    "}\n"
   ]
  },
  {
   "cell_type": "code",
   "execution_count": 4,
   "id": "7e27149d",
   "metadata": {},
   "outputs": [],
   "source": [
    "# Preprocessing the  input\n",
    "def preprocess_input(input_text):\n",
    "    # Tokenize input text\n",
    "    tokens = word_tokenize(input_text.lower())\n",
    "    # Remove stopwords\n",
    "    tokens = [word for word in tokens if word not in stopwords.words('english')]\n",
    "    # Lemmatize tokens\n",
    "    lemmatizer = WordNetLemmatizer()\n",
    "    tokens = [lemmatizer.lemmatize(word) for word in tokens]\n",
    "    return tokens"
   ]
  },
  {
   "cell_type": "code",
   "execution_count": 5,
   "id": "01321620",
   "metadata": {},
   "outputs": [],
   "source": [
    "# Determine conversation topic\n",
    "def get_topic(tokens):\n",
    "    for token in tokens:\n",
    "        if token in topics:\n",
    "            return token\n",
    "    return None"
   ]
  },
  {
   "cell_type": "code",
   "execution_count": 6,
   "id": "6fd09bfc",
   "metadata": {},
   "outputs": [],
   "source": [
    "# Generate response based on topic\n",
    "def generate_response(topic):\n",
    "    if topic in responses:\n",
    "        return random.choice(responses[topic])\n",
    "    else:\n",
    "        return \"I'm sorry, I'm not sure how to respond to that.\"\n"
   ]
  },
  {
   "cell_type": "code",
   "execution_count": 7,
   "id": "c73b267c",
   "metadata": {},
   "outputs": [],
   "source": [
    "# Main function to interact with the chatbot\n",
    "def chat():\n",
    "    print(\"Welcome to the Chatbot!\")\n",
    "    while True:\n",
    "        user_input = input(\"You: \")\n",
    "        if user_input.lower() == 'exit':\n",
    "            print(\"Chatbot: Goodbye!\")\n",
    "            break\n",
    "        tokens = preprocess_input(user_input)\n",
    "        topic = get_topic(tokens)\n",
    "        response = generate_response(topic)\n",
    "        print(\"Chatbot:\", response)\n"
   ]
  },
  {
   "cell_type": "code",
   "execution_count": null,
   "id": "fbcfef13",
   "metadata": {},
   "outputs": [
    {
     "name": "stdout",
     "output_type": "stream",
     "text": [
      "Welcome to the Chatbot!\n"
     ]
    }
   ],
   "source": [
    "# here is the chat bot ready\n",
    "if __name__ == \"__main__\":\n",
    "    chat()"
   ]
  },
  {
   "cell_type": "code",
   "execution_count": null,
   "id": "f153d87b",
   "metadata": {},
   "outputs": [],
   "source": []
  }
 ],
 "metadata": {
  "kernelspec": {
   "display_name": "Python 3 (ipykernel)",
   "language": "python",
   "name": "python3"
  },
  "language_info": {
   "codemirror_mode": {
    "name": "ipython",
    "version": 3
   },
   "file_extension": ".py",
   "mimetype": "text/x-python",
   "name": "python",
   "nbconvert_exporter": "python",
   "pygments_lexer": "ipython3",
   "version": "3.11.5"
  }
 },
 "nbformat": 4,
 "nbformat_minor": 5
}
